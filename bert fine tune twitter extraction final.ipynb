{
 "cells": [
  {
   "cell_type": "code",
   "execution_count": null,
   "metadata": {
    "_cell_guid": "b1076dfc-b9ad-4769-8c92-a6c4dae69d19",
    "_uuid": "8f2839f25d086af736a60e9eeb907d3b93b6e0e5"
   },
   "outputs": [],
   "source": [
    "!pip install pytorch-pretrained-bert pytorch-nlp"
   ]
  },
  {
   "cell_type": "code",
   "execution_count": null,
   "metadata": {
    "_cell_guid": "79c7e3d0-c299-4dcb-8224-4455121ee9b0",
    "_uuid": "d629ff2d2480ee46fbb7e2d37f6b5fab8052498a"
   },
   "outputs": [
    {
     "name": "stderr",
     "output_type": "stream",
     "text": [
      "Using TensorFlow backend.\n"
     ]
    }
   ],
   "source": [
    "import torch\n",
    "from torch.utils.data import TensorDataset, DataLoader, RandomSampler, SequentialSampler\n",
    "from keras.preprocessing.sequence import pad_sequences\n",
    "from sklearn.model_selection import train_test_split\n",
    "from pytorch_pretrained_bert import BertTokenizer, BertConfig\n",
    "from pytorch_pretrained_bert import BertAdam, BertForSequenceClassification\n",
    "from tqdm import tqdm, trange\n",
    "import pandas as pd\n",
    "import io\n",
    "import numpy as np\n",
    "import matplotlib.pyplot as plt\n",
    "\n",
    "#% matplotlib inline"
   ]
  },
  {
   "cell_type": "code",
   "execution_count": 2,
   "metadata": {},
   "outputs": [],
   "source": [
    "df = pd.read_csv(\"../input/tweet-sentiment-extraction/train.csv\",header = None ,names=['sentence_source', 'sentence', 'label_notes' , 'label',])"
   ]
  },
  {
   "cell_type": "code",
   "execution_count": 3,
   "metadata": {},
   "outputs": [
    {
     "name": "stdout",
     "output_type": "stream",
     "text": [
      "  sentence_source                                           sentence  \\\n",
      "1      cb774db0d1                I`d have responded, if I were going   \n",
      "2      549e992a42      Sooo SAD I will miss you here in San Diego!!!   \n",
      "3      088c60f138                          my boss is bullying me...   \n",
      "4      9642c003ef                     what interview! leave me alone   \n",
      "5      358bd9e861   Sons of ****, why couldn`t they put them on t...   \n",
      "\n",
      "                           label_notes     label  \n",
      "1  I`d have responded, if I were going   neutral  \n",
      "2                             Sooo SAD  negative  \n",
      "3                          bullying me  negative  \n",
      "4                       leave me alone  negative  \n",
      "5                        Sons of ****,  negative  \n"
     ]
    }
   ],
   "source": [
    "df = df[:100]\n",
    "df = df.drop(0,axis=0)\n",
    "print(df.head())"
   ]
  },
  {
   "cell_type": "code",
   "execution_count": 4,
   "metadata": {},
   "outputs": [],
   "source": [
    "from sklearn.preprocessing import LabelEncoder \n",
    "  \n",
    "le = LabelEncoder() \n",
    "  \n",
    "df['label']= le.fit_transform(df['label']) \n",
    "#data['Geography']= le.fit_transform(data['Geography']) "
   ]
  },
  {
   "cell_type": "code",
   "execution_count": 5,
   "metadata": {},
   "outputs": [
    {
     "name": "stdout",
     "output_type": "stream",
     "text": [
      "99\n",
      "  sentence_source                                           sentence  \\\n",
      "1      cb774db0d1                I`d have responded, if I were going   \n",
      "2      549e992a42      Sooo SAD I will miss you here in San Diego!!!   \n",
      "3      088c60f138                          my boss is bullying me...   \n",
      "4      9642c003ef                     what interview! leave me alone   \n",
      "5      358bd9e861   Sons of ****, why couldn`t they put them on t...   \n",
      "\n",
      "                           label_notes  label  \n",
      "1  I`d have responded, if I were going      1  \n",
      "2                             Sooo SAD      0  \n",
      "3                          bullying me      0  \n",
      "4                       leave me alone      0  \n",
      "5                        Sons of ****,      0  \n"
     ]
    }
   ],
   "source": [
    "print(len(df))\n",
    "print(df.head())"
   ]
  },
  {
   "cell_type": "code",
   "execution_count": 6,
   "metadata": {},
   "outputs": [
    {
     "name": "stdout",
     "output_type": "stream",
     "text": [
      "99\n"
     ]
    }
   ],
   "source": [
    "# Create sentence and label lists\n",
    "#sentences = str(df.sentence)\n",
    "sentences = df.sentence.values\n",
    "#print(len(sentences))\n",
    "#sentences = str(sentences)\n",
    "#print(len(sentences))\n",
    "\n",
    "# We need to add special tokens at the beginning and end of each sentence for BERT to work properly\n",
    "sentences = [\"[CLS] \" + str(sentence) + \" [SEP]\" for sentence in sentences]\n",
    "labels = df.label.values\n",
    "print(len(sentences))"
   ]
  },
  {
   "cell_type": "code",
   "execution_count": 7,
   "metadata": {},
   "outputs": [
    {
     "name": "stdout",
     "output_type": "stream",
     "text": [
      "99\n",
      "99\n"
     ]
    }
   ],
   "source": [
    "print(len(sentences))\n",
    "print(len(labels))"
   ]
  },
  {
   "cell_type": "code",
   "execution_count": 8,
   "metadata": {},
   "outputs": [
    {
     "name": "stderr",
     "output_type": "stream",
     "text": [
      "100%|██████████| 231508/231508 [00:00<00:00, 674300.47B/s]\n"
     ]
    },
    {
     "name": "stdout",
     "output_type": "stream",
     "text": [
      "Tokenize the first sentence:\n",
      "['[CLS]', 'i', '`', 'd', 'have', 'responded', ',', 'if', 'i', 'were', 'going', '[SEP]']\n"
     ]
    }
   ],
   "source": [
    "tokenizer = BertTokenizer.from_pretrained('bert-base-uncased', do_lower_case=True)\n",
    "\n",
    "tokenized_texts = [tokenizer.tokenize(sent) for sent in sentences]\n",
    "print (\"Tokenize the first sentence:\")\n",
    "print (tokenized_texts[0])"
   ]
  },
  {
   "cell_type": "code",
   "execution_count": 9,
   "metadata": {},
   "outputs": [],
   "source": [
    "# Set the maximum sequence length. The longest sequence in our training set is 47, but we'll leave room on the end anyway. \n",
    "# In the original paper, the authors used a length of 512.\n",
    "MAX_LEN = 128"
   ]
  },
  {
   "cell_type": "code",
   "execution_count": 10,
   "metadata": {},
   "outputs": [],
   "source": [
    "# Use the BERT tokenizer to convert the tokens to their index numbers in the BERT vocabulary\n",
    "input_ids = [tokenizer.convert_tokens_to_ids(x) for x in tokenized_texts]"
   ]
  },
  {
   "cell_type": "code",
   "execution_count": 11,
   "metadata": {},
   "outputs": [],
   "source": [
    "# Pad our input tokens\n",
    "input_ids = pad_sequences(input_ids, maxlen=MAX_LEN, dtype=\"long\", truncating=\"post\", padding=\"post\")"
   ]
  },
  {
   "cell_type": "code",
   "execution_count": 12,
   "metadata": {},
   "outputs": [],
   "source": [
    "# Create attention masks\n",
    "attention_masks = []\n",
    "\n",
    "# Create a mask of 1s for each token followed by 0s for padding\n",
    "for seq in input_ids:\n",
    "  seq_mask = [float(i>0) for i in seq]\n",
    "  attention_masks.append(seq_mask)"
   ]
  },
  {
   "cell_type": "code",
   "execution_count": 13,
   "metadata": {},
   "outputs": [
    {
     "name": "stdout",
     "output_type": "stream",
     "text": [
      "99\n",
      "99\n"
     ]
    }
   ],
   "source": [
    "print(len(input_ids))\n",
    "print(len(labels))"
   ]
  },
  {
   "cell_type": "code",
   "execution_count": 14,
   "metadata": {},
   "outputs": [],
   "source": [
    "# Use train_test_split to split our data into train and validation sets for training\n",
    "\n",
    "train_inputs, validation_inputs, train_labels, validation_labels = train_test_split(input_ids, labels, \n",
    "                                                            random_state=2018, test_size=0.1)\n",
    "train_masks, validation_masks, _, _ = train_test_split(attention_masks, input_ids,\n",
    "                                             random_state=2018, test_size=0.1)"
   ]
  },
  {
   "cell_type": "code",
   "execution_count": 15,
   "metadata": {},
   "outputs": [
    {
     "name": "stdout",
     "output_type": "stream",
     "text": [
      "<class 'numpy.int64'>\n"
     ]
    }
   ],
   "source": [
    "print(type(train_labels[0]))"
   ]
  },
  {
   "cell_type": "code",
   "execution_count": 16,
   "metadata": {},
   "outputs": [],
   "source": [
    "# Convert all of our data into torch tensors, the required datatype for our model\n",
    "\n",
    "train_inputs = torch.tensor(train_inputs)\n",
    "validation_inputs = torch.tensor(validation_inputs)\n",
    "train_labels = torch.tensor(train_labels)\n",
    "validation_labels = torch.tensor(validation_labels)\n",
    "train_masks = torch.tensor(train_masks)\n",
    "validation_masks = torch.tensor(validation_masks)"
   ]
  },
  {
   "cell_type": "code",
   "execution_count": 17,
   "metadata": {},
   "outputs": [],
   "source": [
    "# Select a batch size for training. For fine-tuning BERT on a specific task, the authors recommend a batch size of 16 or 32\n",
    "batch_size = 16\n",
    "\n",
    "# Create an iterator of our data with torch DataLoader. This helps save on memory during training because, unlike a for loop, \n",
    "# with an iterator the entire dataset does not need to be loaded into memory\n",
    "\n",
    "train_data = TensorDataset(train_inputs, train_masks, train_labels)\n",
    "train_sampler = RandomSampler(train_data)\n",
    "train_dataloader = DataLoader(train_data, sampler=train_sampler, batch_size=batch_size)\n",
    "\n",
    "validation_data = TensorDataset(validation_inputs, validation_masks, validation_labels)\n",
    "validation_sampler = SequentialSampler(validation_data)\n",
    "validation_dataloader = DataLoader(validation_data, sampler=validation_sampler, batch_size=batch_size)\n"
   ]
  },
  {
   "cell_type": "code",
   "execution_count": 18,
   "metadata": {},
   "outputs": [
    {
     "name": "stderr",
     "output_type": "stream",
     "text": [
      "100%|██████████| 407873900/407873900 [00:16<00:00, 24386087.92B/s]\n"
     ]
    }
   ],
   "source": [
    "# Load BertForSequenceClassification, the pretrained BERT model with a single linear classification layer on top. \n",
    "\n",
    "model = BertForSequenceClassification.from_pretrained(\"bert-base-uncased\", num_labels=3)\n",
    "#model.cuda()"
   ]
  },
  {
   "cell_type": "code",
   "execution_count": 19,
   "metadata": {},
   "outputs": [],
   "source": [
    "\n",
    "param_optimizer = list(model.named_parameters())\n",
    "no_decay = ['bias', 'gamma', 'beta']\n",
    "optimizer_grouped_parameters = [\n",
    "    {'params': [p for n, p in param_optimizer if not any(nd in n for nd in no_decay)],\n",
    "     'weight_decay_rate': 0.01},\n",
    "    {'params': [p for n, p in param_optimizer if any(nd in n for nd in no_decay)],\n",
    "     'weight_decay_rate': 0.0}\n",
    "]\n",
    "\n"
   ]
  },
  {
   "cell_type": "code",
   "execution_count": 20,
   "metadata": {},
   "outputs": [],
   "source": [
    "# This variable contains all of the hyperparemeter information our training loop needs\n",
    "optimizer = BertAdam(optimizer_grouped_parameters,\n",
    "                     lr=2e-5,\n",
    "                     warmup=.1)"
   ]
  },
  {
   "cell_type": "code",
   "execution_count": 21,
   "metadata": {},
   "outputs": [],
   "source": [
    "# Function to calculate the accuracy of our predictions vs labels\n",
    "def flat_accuracy(preds, labels):\n",
    "    pred_flat = np.argmax(preds, axis=1).flatten()\n",
    "    labels_flat = labels.flatten()\n",
    "    return np.sum(pred_flat == labels_flat) / len(labels_flat)"
   ]
  },
  {
   "cell_type": "code",
   "execution_count": 22,
   "metadata": {},
   "outputs": [],
   "source": [
    "device = torch.device(\"cuda\" if torch.cuda.is_available() else \"cpu\")\n",
    "#n_gpu = torch.cuda.device_count()\n",
    "#torch.cuda.get_device_name(0)"
   ]
  },
  {
   "cell_type": "code",
   "execution_count": 23,
   "metadata": {},
   "outputs": [],
   "source": [
    "#print(b_labels)\n",
    "from keras.utils import to_categorical\n",
    "labels = to_categorical(labels)"
   ]
  },
  {
   "cell_type": "code",
   "execution_count": 24,
   "metadata": {},
   "outputs": [
    {
     "name": "stdout",
     "output_type": "stream",
     "text": [
      "[[0. 1. 0.]\n",
      " [1. 0. 0.]\n",
      " [1. 0. 0.]\n",
      " [1. 0. 0.]\n",
      " [1. 0. 0.]\n",
      " [0. 1. 0.]\n",
      " [0. 0. 1.]\n",
      " [0. 1. 0.]\n",
      " [0. 1. 0.]\n",
      " [0. 0. 1.]\n",
      " [0. 1. 0.]\n",
      " [0. 0. 1.]\n",
      " [1. 0. 0.]\n",
      " [1. 0. 0.]\n",
      " [0. 1. 0.]\n",
      " [1. 0. 0.]\n",
      " [1. 0. 0.]\n",
      " [1. 0. 0.]\n",
      " [1. 0. 0.]\n",
      " [0. 1. 0.]\n",
      " [0. 1. 0.]\n",
      " [0. 0. 1.]\n",
      " [0. 1. 0.]\n",
      " [0. 1. 0.]\n",
      " [0. 1. 0.]\n",
      " [0. 0. 1.]\n",
      " [1. 0. 0.]\n",
      " [1. 0. 0.]\n",
      " [0. 0. 1.]\n",
      " [1. 0. 0.]\n",
      " [0. 0. 1.]\n",
      " [0. 0. 1.]\n",
      " [1. 0. 0.]\n",
      " [0. 0. 1.]\n",
      " [0. 1. 0.]\n",
      " [0. 1. 0.]\n",
      " [1. 0. 0.]\n",
      " [0. 1. 0.]\n",
      " [1. 0. 0.]\n",
      " [0. 0. 1.]\n",
      " [0. 1. 0.]\n",
      " [0. 0. 1.]\n",
      " [0. 1. 0.]\n",
      " [0. 1. 0.]\n",
      " [0. 0. 1.]\n",
      " [0. 1. 0.]\n",
      " [1. 0. 0.]\n",
      " [0. 1. 0.]\n",
      " [1. 0. 0.]\n",
      " [1. 0. 0.]\n",
      " [0. 1. 0.]\n",
      " [0. 1. 0.]\n",
      " [0. 1. 0.]\n",
      " [1. 0. 0.]\n",
      " [0. 0. 1.]\n",
      " [0. 1. 0.]\n",
      " [1. 0. 0.]\n",
      " [0. 1. 0.]\n",
      " [1. 0. 0.]\n",
      " [0. 1. 0.]\n",
      " [1. 0. 0.]\n",
      " [0. 1. 0.]\n",
      " [1. 0. 0.]\n",
      " [0. 0. 1.]\n",
      " [1. 0. 0.]\n",
      " [0. 1. 0.]\n",
      " [0. 0. 1.]\n",
      " [0. 1. 0.]\n",
      " [0. 0. 1.]\n",
      " [0. 1. 0.]\n",
      " [0. 1. 0.]\n",
      " [0. 0. 1.]\n",
      " [0. 1. 0.]\n",
      " [0. 1. 0.]\n",
      " [0. 1. 0.]\n",
      " [0. 1. 0.]\n",
      " [1. 0. 0.]\n",
      " [0. 1. 0.]\n",
      " [1. 0. 0.]\n",
      " [0. 1. 0.]\n",
      " [0. 0. 1.]\n",
      " [0. 0. 1.]\n",
      " [0. 1. 0.]\n",
      " [1. 0. 0.]\n",
      " [1. 0. 0.]\n",
      " [0. 0. 1.]\n",
      " [0. 1. 0.]\n",
      " [0. 1. 0.]\n",
      " [1. 0. 0.]\n",
      " [0. 0. 1.]\n",
      " [0. 0. 1.]\n",
      " [0. 1. 0.]\n",
      " [0. 1. 0.]\n",
      " [1. 0. 0.]\n",
      " [0. 1. 0.]\n",
      " [0. 0. 1.]\n",
      " [1. 0. 0.]\n",
      " [1. 0. 0.]\n",
      " [0. 1. 0.]]\n"
     ]
    }
   ],
   "source": [
    "print(labels)"
   ]
  },
  {
   "cell_type": "code",
   "execution_count": 25,
   "metadata": {},
   "outputs": [
    {
     "name": "stderr",
     "output_type": "stream",
     "text": [
      "\r",
      "Epoch:   0%|          | 0/4 [00:00<?, ?it/s]"
     ]
    },
    {
     "name": "stdout",
     "output_type": "stream",
     "text": [
      "Train loss: 1.0983026226361592\n"
     ]
    },
    {
     "name": "stderr",
     "output_type": "stream",
     "text": [
      "\r",
      "Epoch:  25%|██▌       | 1/4 [00:55<02:45, 55.29s/it]"
     ]
    },
    {
     "name": "stdout",
     "output_type": "stream",
     "text": [
      "Validation Accuracy: 0.4\n",
      "Train loss: 1.0273603399594624\n"
     ]
    },
    {
     "name": "stderr",
     "output_type": "stream",
     "text": [
      "\r",
      "Epoch:  50%|█████     | 2/4 [01:44<01:46, 53.46s/it]"
     ]
    },
    {
     "name": "stdout",
     "output_type": "stream",
     "text": [
      "Validation Accuracy: 0.4\n",
      "Train loss: 0.9522969027360281\n"
     ]
    },
    {
     "name": "stderr",
     "output_type": "stream",
     "text": [
      "\r",
      "Epoch:  75%|███████▌  | 3/4 [02:33<00:52, 52.27s/it]"
     ]
    },
    {
     "name": "stdout",
     "output_type": "stream",
     "text": [
      "Validation Accuracy: 0.4\n",
      "Train loss: 0.6667760014533997\n"
     ]
    },
    {
     "name": "stderr",
     "output_type": "stream",
     "text": [
      "Epoch: 100%|██████████| 4/4 [03:23<00:00, 50.95s/it]"
     ]
    },
    {
     "name": "stdout",
     "output_type": "stream",
     "text": [
      "Validation Accuracy: 0.6\n"
     ]
    },
    {
     "name": "stderr",
     "output_type": "stream",
     "text": [
      "\n"
     ]
    }
   ],
   "source": [
    "t = [] \n",
    "\n",
    "# Store our loss and accuracy for plotting\n",
    "train_loss_set = []\n",
    "\n",
    "# Number of training epochs (authors recommend between 2 and 4)\n",
    "epochs = 4\n",
    "\n",
    "# trange is a tqdm wrapper around the normal python range\n",
    "for _ in trange(epochs, desc=\"Epoch\"):\n",
    "  \n",
    "  \n",
    "  # Training\n",
    "  \n",
    "  # Set our model to training mode (as opposed to evaluation mode)\n",
    "  model.train()\n",
    "  \n",
    "  # Tracking variables\n",
    "  tr_loss = 0\n",
    "  nb_tr_examples, nb_tr_steps = 0, 0\n",
    "  \n",
    "  # Train the data for one epoch\n",
    "  for step, batch in enumerate(train_dataloader):\n",
    "    # Add batch to GPU\n",
    "    batch = tuple(t.to(device) for t in batch)\n",
    "    # Unpack the inputs from our dataloader\n",
    "    b_input_ids, b_input_mask, b_labels = batch\n",
    "    # Clear out the gradients (by default they accumulate)\n",
    "    optimizer.zero_grad()\n",
    "    # Forward pass\n",
    "    loss = model(b_input_ids, token_type_ids=None, attention_mask=b_input_mask, labels=b_labels)\n",
    "    train_loss_set.append(loss.item())    \n",
    "    # Backward pass\n",
    "    loss.backward()\n",
    "    # Update parameters and take a step using the computed gradient\n",
    "    optimizer.step()\n",
    "    \n",
    "    \n",
    "    # Update tracking variables\n",
    "    tr_loss += loss.item()\n",
    "    nb_tr_examples += b_input_ids.size(0)\n",
    "    nb_tr_steps += 1\n",
    "\n",
    "  print(\"Train loss: {}\".format(tr_loss/nb_tr_steps))\n",
    "    \n",
    "    \n",
    "  # Validation\n",
    "\n",
    "  # Put model in evaluation mode to evaluate loss on the validation set\n",
    "  model.eval()\n",
    "\n",
    "  # Tracking variables \n",
    "  eval_loss, eval_accuracy = 0, 0\n",
    "  nb_eval_steps, nb_eval_examples = 0, 0\n",
    "\n",
    "  # Evaluate data for one epoch\n",
    "  for batch in validation_dataloader:\n",
    "    # Add batch to GPU\n",
    "    batch = tuple(t.to(device) for t in batch)\n",
    "    # Unpack the inputs from our dataloader\n",
    "    b_input_ids, b_input_mask, b_labels = batch\n",
    "    # Telling the model not to compute or store gradients, saving memory and speeding up validation\n",
    "    with torch.no_grad():\n",
    "      # Forward pass, calculate logit predictions\n",
    "      logits = model(b_input_ids, token_type_ids=None, attention_mask=b_input_mask)\n",
    "    \n",
    "    # Move logits and labels to CPU\n",
    "    logits = logits.detach().cpu().numpy()\n",
    "    label_ids = b_labels.to('cpu').numpy()\n",
    "\n",
    "    tmp_eval_accuracy = flat_accuracy(logits, label_ids)\n",
    "    \n",
    "    eval_accuracy += tmp_eval_accuracy\n",
    "    nb_eval_steps += 1\n",
    "\n",
    "  print(\"Validation Accuracy: {}\".format(eval_accuracy/nb_eval_steps))"
   ]
  },
  {
   "cell_type": "code",
   "execution_count": 26,
   "metadata": {},
   "outputs": [
    {
     "data": {
      "image/png": "[encoded data removed]",
      "text/plain": [
       "<Figure size 1080x576 with 1 Axes>"
      ]
     },
     "metadata": {
      "needs_background": "light"
     },
     "output_type": "display_data"
    }
   ],
   "source": [
    "plt.figure(figsize=(15,8))\n",
    "plt.title(\"Training loss\")\n",
    "plt.xlabel(\"Batch\")\n",
    "plt.ylabel(\"Loss\")\n",
    "plt.plot(train_loss_set)\n",
    "plt.show()"
   ]
  },
  {
   "cell_type": "code",
   "execution_count": 27,
   "metadata": {},
   "outputs": [
    {
     "name": "stdout",
     "output_type": "stream",
     "text": [
      "                                           sentence_source  \\\n",
      "textID                                                text   \n",
      "cb774db0d1             I`d have responded, if I were going   \n",
      "549e992a42   Sooo SAD I will miss you here in San Diego!!!   \n",
      "088c60f138                       my boss is bullying me...   \n",
      "9642c003ef                  what interview! leave me alone   \n",
      "\n",
      "                                       sentence      label  \n",
      "textID                            selected_text  sentiment  \n",
      "cb774db0d1  I`d have responded, if I were going    neutral  \n",
      "549e992a42                             Sooo SAD   negative  \n",
      "088c60f138                          bullying me   negative  \n",
      "9642c003ef                       leave me alone   negative  \n"
     ]
    }
   ],
   "source": [
    "df = pd.read_csv(\"../input/tweet-sentiment-extraction/train.csv\", header=None, names=['sentence_source', 'sentence' , 'label',])\n",
    "df = df[:100]\n",
    "print(df.head())\n",
    "df = df.drop('textID',axis=0)\n",
    "df['label']= le.fit_transform(df['label']) \n",
    "\n",
    "# Create sentence and label lists\n",
    "sentences = df.sentence.values\n",
    "\n",
    "# We need to add special tokens at the beginning and end of each sentence for BERT to work properly\n",
    "sentences = [\"[CLS] \" + str(sentence) + \" [SEP]\" for sentence in sentences]\n",
    "labels = df.label.values\n",
    "\n",
    "tokenized_texts = [tokenizer.tokenize(sent) for sent in sentences]\n",
    "\n",
    "\n",
    "MAX_LEN = 128\n",
    "\n",
    "# Use the BERT tokenizer to convert the tokens to their index numbers in the BERT vocabulary\n",
    "input_ids = [tokenizer.convert_tokens_to_ids(x) for x in tokenized_texts]\n",
    "# Pad our input tokens\n",
    "input_ids = pad_sequences(input_ids, maxlen=MAX_LEN, dtype=\"long\", truncating=\"post\", padding=\"post\")\n",
    "# Create attention masks\n",
    "attention_masks = []\n",
    "\n",
    "# Create a mask of 1s for each token followed by 0s for padding\n",
    "for seq in input_ids:\n",
    "  seq_mask = [float(i>0) for i in seq]\n",
    "  attention_masks.append(seq_mask) \n",
    "\n",
    "prediction_inputs = torch.tensor(input_ids)\n",
    "prediction_masks = torch.tensor(attention_masks)\n",
    "labels = to_categorical(labels)\n",
    "prediction_labels = torch.tensor(labels)\n",
    "  \n",
    "batch_size = 16  \n",
    "\n",
    "\n",
    "prediction_data = TensorDataset(prediction_inputs, prediction_masks, prediction_labels)\n",
    "prediction_sampler = SequentialSampler(prediction_data)\n",
    "prediction_dataloader = DataLoader(prediction_data, sampler=prediction_sampler, batch_size=batch_size)"
   ]
  },
  {
   "cell_type": "code",
   "execution_count": 28,
   "metadata": {},
   "outputs": [],
   "source": [
    "# Prediction on test set\n",
    "\n",
    "# Put model in evaluation mode\n",
    "model.eval()\n",
    "\n",
    "# Tracking variables \n",
    "predictions , true_labels = [], []\n",
    "\n",
    "# Predict \n",
    "for batch in prediction_dataloader:\n",
    "  # Add batch to GPU\n",
    "  batch = tuple(t.to(device) for t in batch)\n",
    "  # Unpack the inputs from our dataloader\n",
    "  b_input_ids, b_input_mask, b_labels = batch\n",
    "  # Telling the model not to compute or store gradients, saving memory and speeding up prediction\n",
    "  with torch.no_grad():\n",
    "    # Forward pass, calculate logit predictions\n",
    "    logits = model(b_input_ids, token_type_ids=None, attention_mask=b_input_mask)\n",
    "\n",
    "  # Move logits and labels to CPU\n",
    "  logits = logits.detach().cpu().numpy()\n",
    "  label_ids = b_labels.to('cpu').numpy()\n",
    "  \n",
    "  # Store predictions and true labels\n",
    "  predictions.append(logits)\n",
    "  true_labels.append(label_ids)"
   ]
  },
  {
   "cell_type": "code",
   "execution_count": 29,
   "metadata": {},
   "outputs": [
    {
     "name": "stdout",
     "output_type": "stream",
     "text": [
      "[array([[-1.1301969 ,  2.172469  , -1.7636843 ],\n",
      "       [ 0.576825  , -1.0220141 ,  0.47658223],\n",
      "       [ 0.52647305, -0.39887542, -0.09608044],\n",
      "       [ 0.8118061 , -0.5067036 , -0.20500767],\n",
      "       [ 0.62752086, -1.1408031 ,  0.6935668 ],\n",
      "       [-0.85454583,  2.1429324 , -1.36687   ],\n",
      "       [ 0.3513953 , -0.89898384,  0.6189303 ],\n",
      "       [ 0.6121655 , -0.9942755 ,  0.48420647],\n",
      "       [-0.96257395,  1.9779321 , -1.3440657 ],\n",
      "       [ 0.59318256, -1.0692194 ,  0.6335727 ],\n",
      "       [-1.1445782 ,  2.1919043 , -1.7365451 ],\n",
      "       [ 0.58345425, -0.3132704 , -0.00291499],\n",
      "       [ 0.59075564, -0.8517146 ,  0.23350903],\n",
      "       [-0.37777478,  0.462009  , -0.50301766],\n",
      "       [-0.99179316,  1.8533304 , -1.5728561 ],\n",
      "       [ 0.7614185 , -1.1087052 ,  0.39870912]], dtype=float32), array([[ 0.6789026 , -1.0676562 ,  0.47533095],\n",
      "       [ 0.75290877, -0.99864805,  0.22453454],\n",
      "       [-0.5092921 ,  0.6384009 , -0.43753296],\n",
      "       [-0.9650298 ,  2.1080816 , -1.4324907 ],\n",
      "       [-1.0002995 ,  2.2183993 , -1.6324533 ],\n",
      "       [ 0.56782806, -1.0426104 ,  0.60648143],\n",
      "       [-0.87593055,  2.2009532 , -1.6237607 ],\n",
      "       [-0.8259882 ,  2.0479176 , -1.5280895 ],\n",
      "       [-1.110235  ,  2.2450619 , -1.5243403 ],\n",
      "       [ 0.52076364, -1.1246817 ,  0.80809516],\n",
      "       [ 0.74668026, -1.0242146 ,  0.39289302],\n",
      "       [-0.88777024,  2.1433315 , -1.7472526 ],\n",
      "       [ 0.3513953 , -0.89898384,  0.6189303 ],\n",
      "       [ 0.789647  , -1.0573711 ,  0.41507268],\n",
      "       [ 0.52803355, -1.105767  ,  0.7401848 ],\n",
      "       [ 0.192875  ,  0.16829386, -0.27184683]], dtype=float32), array([[ 0.79445505, -1.046823  ,  0.28337982],\n",
      "       [ 0.50462544, -1.085886  ,  0.7585122 ],\n",
      "       [-1.0985267 ,  2.0988388 , -1.6947526 ],\n",
      "       [ 0.4681607 , -0.84342015,  0.50668293],\n",
      "       [ 0.7300104 , -0.7941034 ,  0.00827228],\n",
      "       [-1.1047809 ,  2.3288422 , -1.611262  ],\n",
      "       [ 0.5862932 , -1.1309711 ,  0.722396  ],\n",
      "       [ 0.59685206, -0.9312351 ,  0.38224053],\n",
      "       [-1.0767214 ,  2.316091  , -1.7112467 ],\n",
      "       [ 0.02183431, -0.28150097,  0.3332919 ],\n",
      "       [-0.6776711 ,  1.2476184 , -1.3028765 ],\n",
      "       [-1.078476  ,  1.8015008 , -1.4756602 ],\n",
      "       [-0.35938022,  1.3688042 , -1.160662  ],\n",
      "       [-1.1015384 ,  2.0337663 , -1.6337345 ],\n",
      "       [-0.33010525,  0.2942506 ,  0.15670055],\n",
      "       [-0.9018816 ,  2.3192809 , -1.4607826 ]], dtype=float32), array([[ 0.6707073 , -0.77459943,  0.12319183],\n",
      "       [ 0.7526776 , -1.077177  ,  0.37880737],\n",
      "       [-0.9351461 ,  2.3019428 , -1.352268  ],\n",
      "       [-1.1322589 ,  1.9611506 , -1.4424045 ],\n",
      "       [ 0.4877952 , -0.90423626,  0.6447902 ],\n",
      "       [ 0.7205267 , -1.1264014 ,  0.4594795 ],\n",
      "       [ 0.42870206, -1.0869364 ,  0.91721565],\n",
      "       [-0.972658  ,  2.0250876 , -1.6848426 ],\n",
      "       [ 0.6870407 , -1.0317602 ,  0.29833013],\n",
      "       [-0.8148817 ,  2.2104068 , -1.7467906 ],\n",
      "       [ 0.6971906 , -0.986374  ,  0.34956113],\n",
      "       [-0.7036357 ,  1.5256245 , -1.1758351 ],\n",
      "       [ 0.71746916, -1.0375359 ,  0.40820074],\n",
      "       [-0.920045  ,  1.431118  , -0.7042495 ],\n",
      "       [ 0.7768739 , -0.7547799 , -0.12237997],\n",
      "       [ 0.4522828 , -0.9801754 ,  0.5856628 ]], dtype=float32), array([[ 0.62134093, -1.03141   ,  0.5887726 ],\n",
      "       [-0.9838092 ,  2.3410482 , -1.5457006 ],\n",
      "       [ 0.47092754, -1.0616094 ,  0.6190415 ],\n",
      "       [-1.0268332 ,  2.320946  , -1.73628   ],\n",
      "       [ 0.5691042 , -1.0462623 ,  0.58128387],\n",
      "       [-1.0298297 ,  2.3384833 , -1.6758039 ],\n",
      "       [-1.0839701 ,  2.248199  , -1.7191985 ],\n",
      "       [ 0.41163248, -0.5296417 ,  0.15392438],\n",
      "       [-1.1047137 ,  2.311102  , -1.5465893 ],\n",
      "       [-1.195761  ,  2.0297532 , -1.6635234 ],\n",
      "       [-1.1454883 ,  2.1847637 , -1.752953  ],\n",
      "       [-1.0285499 ,  2.294263  , -1.8102183 ],\n",
      "       [-0.9314276 ,  1.5332949 , -1.2739958 ],\n",
      "       [-0.97886777,  1.8447334 , -1.6476362 ],\n",
      "       [ 0.73029757, -1.0626397 ,  0.43909168],\n",
      "       [-1.0217397 ,  2.318727  , -1.6427231 ]], dtype=float32), array([[ 0.37830102, -0.96663153,  0.9743601 ],\n",
      "       [ 0.46864146, -0.79972965,  0.32866237],\n",
      "       [-0.99884915,  2.2641482 , -1.7617916 ],\n",
      "       [ 0.7156551 , -0.9976394 ,  0.3095339 ],\n",
      "       [ 0.70118654, -1.0391964 ,  0.49065962],\n",
      "       [ 0.4512459 , -1.2147727 ,  0.96402735],\n",
      "       [-1.0209231 ,  2.2572942 , -1.7743672 ],\n",
      "       [-0.32416922,  1.2246299 , -0.7620537 ],\n",
      "       [ 0.7169521 , -0.97941387,  0.28263754],\n",
      "       [ 0.46257943, -0.9080845 ,  0.53974515],\n",
      "       [-0.2637657 ,  0.7003187 , -0.4173119 ],\n",
      "       [-1.0284355 ,  2.2456608 , -1.6581132 ],\n",
      "       [-0.84800124,  2.277141  , -1.5338501 ],\n",
      "       [ 0.75852567, -0.959038  ,  0.2156824 ],\n",
      "       [-1.029319  ,  2.222108  , -1.7136438 ],\n",
      "       [-0.6223521 ,  1.8256209 , -1.2221816 ]], dtype=float32), array([[ 0.7170102 , -0.84352297,  0.16450575],\n",
      "       [ 0.7526542 , -1.1066421 ,  0.38829723],\n",
      "       [-1.1086355 ,  2.2906787 , -1.4833072 ]], dtype=float32)]\n"
     ]
    }
   ],
   "source": [
    "print(predictions)"
   ]
  },
  {
   "cell_type": "code",
   "execution_count": 32,
   "metadata": {},
   "outputs": [],
   "source": [
    "x = predictions[0][0]"
   ]
  },
  {
   "cell_type": "code",
   "execution_count": 33,
   "metadata": {},
   "outputs": [
    {
     "name": "stdout",
     "output_type": "stream",
     "text": [
      "[ 0.576825   -1.0220141   0.47658223]\n"
     ]
    }
   ],
   "source": [
    "print(x)"
   ]
  },
  {
   "cell_type": "code",
   "execution_count": 34,
   "metadata": {},
   "outputs": [
    {
     "name": "stdout",
     "output_type": "stream",
     "text": [
      "0\n"
     ]
    }
   ],
   "source": [
    "print(np.argmax(x))"
   ]
  },
  {
   "cell_type": "code",
   "execution_count": null,
   "metadata": {},
   "outputs": [],
   "source": []
  }
 ],
 "metadata": {
  "kernelspec": {
   "display_name": "Python 3",
   "language": "python",
   "name": "python3"
  },
  "language_info": {
   "codemirror_mode": {
    "name": "ipython",
    "version": 3
   },
   "file_extension": ".py",
   "mimetype": "text/x-python",
   "name": "python",
   "nbconvert_exporter": "python",
   "pygments_lexer": "ipython3",
   "version": "3.7.7"
  }
 },
 "nbformat": 4,
 "nbformat_minor": 4
}
